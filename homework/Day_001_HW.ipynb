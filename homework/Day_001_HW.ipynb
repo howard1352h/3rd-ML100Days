{
 "cells": [
  {
   "cell_type": "markdown",
   "metadata": {},
   "source": [
    "# 作業1\n",
    "請點選下方檢視範例依照 Day_001_example_of_metrics.ipynb 完成 Mean Squared Error 的函式"
   ]
  },
  {
   "cell_type": "code",
   "execution_count": 6,
   "metadata": {},
   "outputs": [
    {
     "name": "stdout",
     "output_type": "stream",
     "text": [
      "The Mean Square Error is 5.82\n"
     ]
    }
   ],
   "source": [
    "# numpy 用於數值/陣列運算\n",
    "import numpy as np\n",
    "\n",
    "#計算 Mean Square Error的函式\n",
    "#y: 實際值,yp: 預測值\n",
    "def mean_square_error(y, yp):\n",
    "    # mse : 將兩個陣列相減後平方, 再將整個陣列加總成一個數字(sum), 最後除以y的長度(len), 稱為\"均方誤差\"\n",
    "    mse=sum((y-yp)**2)/len(y)\n",
    "    return mse\n",
    "\n",
    "# 呼叫上述函式, 傳回 y(實際值)與 yp(預測值) 的 mse\n",
    "w=0.5\n",
    "b=3\n",
    "x_lin = np.linspace(0, 100, 101)\n",
    "y = (x_lin + np.random.randn(101) * 5) * w + b\n",
    "yp = x_lin * w + b\n",
    "mse=mean_square_error(y, yp)\n",
    "print((\"The Mean Square Error is %.2f\" % (mse)))"
   ]
  },
  {
   "cell_type": "markdown",
   "metadata": {},
   "source": [
    "# 作業2\n",
    "請上 Kaggle, 在 Competitions 或 Dataset 中找一組競賽或資料並寫下：\n",
    "\n",
    "1. 你選的這組資料為何重要\n",
    "\n",
    "2. 資料從何而來 (tips: 譬如提供者是誰、以什麼方式蒐集)\n",
    "\n",
    "3. 蒐集而來的資料型態為何\n",
    "\n",
    "4. 這組資料想解決的問題如何評估"
   ]
  },
  {
   "cell_type": "markdown",
   "metadata": {},
   "source": [
    "我選擇的Competitions 為 Data Science for Good: CareerVillage.org\n",
    "(網址: https://www.kaggle.com/c/data-science-for-good-careervillage/overview )\n",
    "\n",
    "1. 你選的這組資料為何重要<br>\n",
    "Ans. 為了讓美國學生提出的職業問題能更有效率的提供給從事相關職業的志工\n",
    "<br>\n",
    "2. 資料從何而來 (tips: 譬如提供者是誰、以什麼方式蒐集)<br>\n",
    "Ans. 提供者為CareerVillage.org，資料為格式化表單，並經過匿名處理\n",
    "<br>\n",
    "3. 蒐集而來的資料型態為何<br>\n",
    "Ans. 非結構化的文字\n",
    "<br>\n",
    "4. 這組資料想解決的問題如何評估<br>\n",
    "Ans. 利用Precision-Recall來提高傳給志工的問題的關聯性"
   ]
  },
  {
   "cell_type": "markdown",
   "metadata": {},
   "source": [
    "# 作業3：\n",
    "\n",
    "想像你經營一個自由載客車隊，你希望能透過數據分析以提升業績，請你思考並描述你如何規劃整體的分析/解決方案：\n",
    "\n",
    "1. 核心問題為何 (tips：如何定義 「提升業績 & 你的假設」)\n",
    "\n",
    "2. 資料從何而來 (tips：哪些資料可能會對你想問的問題產生影響 & 資料如何蒐集)\n",
    "\n",
    "3. 蒐集而來的資料型態為何\n",
    "\n",
    "4. 你要回答的問題，其如何評估 (tips：你的假設如何驗證)"
   ]
  },
  {
   "cell_type": "markdown",
   "metadata": {},
   "source": [
    "1. 核心問題為何 (tips：如何定義 「提升業績 & 你的假設」)<br>\n",
    "Ans. 分析主要客群的使用習慣，例如在哪個時段會在哪個地區使用我們的服務。藉由上述的分析提前做好人員分配以提升業績。\n",
    "<br>\n",
    "2. 資料從何而來 (tips：哪些資料可能會對你想問的問題產生影響 & 資料如何蒐集)<br>\n",
    "Ans. 蒐集近幾年的乘車紀錄\n",
    "<br>\n",
    "3. 蒐集而來的資料型態為何<br>\n",
    "Ans. 結構化的表格及數值\n",
    "<br>\n",
    "4. 你要回答的問題，其如何評估 (tips：你的假設如何驗證)<br>\n",
    "Ans. 利用MAE預測各地區的使用情況"
   ]
  },
  {
   "cell_type": "code",
   "execution_count": null,
   "metadata": {},
   "outputs": [],
   "source": []
  }
 ],
 "metadata": {
  "kernelspec": {
   "display_name": "Python 3",
   "language": "python",
   "name": "python3"
  },
  "language_info": {
   "codemirror_mode": {
    "name": "ipython",
    "version": 3
   },
   "file_extension": ".py",
   "mimetype": "text/x-python",
   "name": "python",
   "nbconvert_exporter": "python",
   "pygments_lexer": "ipython3",
   "version": "3.7.3"
  }
 },
 "nbformat": 4,
 "nbformat_minor": 2
}
