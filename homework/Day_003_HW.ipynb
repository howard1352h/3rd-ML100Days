{
 "cells": [
  {
   "cell_type": "markdown",
   "metadata": {},
   "source": [
    "## [作業目標]\n",
    "持續接觸有關機器學習的相關專案與最新技術"
   ]
  },
  {
   "cell_type": "markdown",
   "metadata": {},
   "source": [
    "## [作業重點]\n",
    "透過觀察頂尖公司的機器學習文章，來了解各公司是怎麼應用機器學習在實際的專案上"
   ]
  },
  {
   "cell_type": "markdown",
   "metadata": {},
   "source": [
    "## [作業]\n",
    "今天的作業希望大家能夠看看全球機器學習巨頭們在做的機器學習專案。以 google 為例，下圖是 Google 內部專案使用機器學習的數量，隨著時間進展，現在早已超過 2000 個專案在使用機器學習。"
   ]
  },
  {
   "cell_type": "markdown",
   "metadata": {},
   "source": [
    "![image](https://cdn-images-1.medium.com/max/800/1*U_L8qI8RmYS-MOBrYvXhSA.png)"
   ]
  },
  {
   "cell_type": "markdown",
   "metadata": {},
   "source": [
    "底下幫同學整理幾間知名企業的 blog 或機器學習網站 (自行搜尋也可)，這些網站都會整理最新的機器學習專案或者是技術文章，請挑選一篇文章閱讀並試著回答\n",
    "1. 專案的目標？ (要解決什麼問題）\n",
    "2. 使用的技術是？ (只需知道名稱即可，例如：使用 CNN 卷積神經網路做影像分類)\n",
    "3. 資料來源？ "
   ]
  },
  {
   "cell_type": "markdown",
   "metadata": {},
   "source": [
    "- [Google AI blog](https://ai.googleblog.com/)\n",
    "- [Facebook Research blog](https://research.fb.com/blog/)\n",
    "- [Apple machine learning journal](https://machinelearning.apple.com/)\n",
    "- [機器之心](https://www.jiqizhixin.com/)\n",
    "- [雷鋒網](http://www.leiphone.com/category/ai)"
   ]
  },
  {
   "cell_type": "markdown",
   "metadata": {},
   "source": [
<<<<<<< HEAD
    "1. 專案的目標？ (要解決什麼問題） <br>\n",
    "An On-device Deep Neural Network for Face Detection<br>\n",
    "一個在終端裝置上應用於臉部辨識的深度神經網路。<br>\n",
    "<br>\n",
    "AI演算法需要大量的資料和運算能力，目前大多企業習慣使用雲端的方式來處理，而在終端裝置上的運算能做出更即時的反應。<br>\n",
    "<br>\n",
    "與雲端處理的不同點在於資源分配的困難，雲端處理可以將效能都拿來處理一個視覺問題，但終端裝置還要考慮其他app的使用情形，所以apple提出了一個更有效率的演算法。<br>\n",
    "<br>\n",
    "2. 使用的技術是？ (只需知道名稱即可，例如：使用 CNN 卷積神經網路做影像分類) <br>\n",
    "跳脫Viola-Jones detection algorithm，使用“teacher-student” training  <br>\n",
    "<br>\n",
    "3. 資料來源？ <br>\n",
=======
    "1. 專案的目標？ (要解決什麼問題）\n",
    "An On-device Deep Neural Network for Face Detection\n",
    "一個在終端裝置上應用於臉部辨識的深度神經網路。\n",
    "\n",
    "AI演算法需要大量的資料和運算能力，目前大多企業習慣使用雲端的方式來處理，而在終端裝置上的運算能做出更即時的反應。\n",
    "\n",
    "與雲端處理的不同點在於資源分配的困難，雲端處理可以將效能都拿來處理一個視覺問題，但終端裝置還要考慮其他app的使用情形，所以apple提出了一個更有效率的演算法。\n",
    "\n",
    "\n",
    "2. 使用的技術是？ (只需知道名稱即可，例如：使用 CNN 卷積神經網路做影像分類)\n",
    "\n",
    "跳脫Viola-Jones detection algorithm，使用“teacher-student” training \n",
    "\n",
    "3. 資料來源？\n",
    "\n",
>>>>>>> f2572b00aeaa0069ecfd0567d2726a00e80d43f7
    "https://machinelearning.apple.com/2017/11/16/face-detection.html"
   ]
  },
  {
   "cell_type": "code",
   "execution_count": null,
   "metadata": {},
   "outputs": [],
   "source": []
  }
 ],
 "metadata": {
  "kernelspec": {
   "display_name": "Python 3",
   "language": "python",
   "name": "python3"
  },
  "language_info": {
   "codemirror_mode": {
    "name": "ipython",
    "version": 3
   },
   "file_extension": ".py",
   "mimetype": "text/x-python",
   "name": "python",
   "nbconvert_exporter": "python",
   "pygments_lexer": "ipython3",
   "version": "3.7.3"
  }
 },
 "nbformat": 4,
 "nbformat_minor": 2
}
